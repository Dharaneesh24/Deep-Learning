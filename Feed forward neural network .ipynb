{
 "cells": [
  {
   "cell_type": "code",
   "execution_count": 1,
   "metadata": {},
   "outputs": [
    {
     "name": "stderr",
     "output_type": "stream",
     "text": [
      "C:\\Users\\Dharaneesh.V\\AppData\\Local\\Temp\\ipykernel_47948\\770203292.py:4: DeprecationWarning: \n",
      "Pyarrow will become a required dependency of pandas in the next major release of pandas (pandas 3.0),\n",
      "(to allow more performant data types, such as the Arrow string type, and better interoperability with other libraries)\n",
      "but was not found to be installed on your system.\n",
      "If this would cause problems for you,\n",
      "please provide us feedback at https://github.com/pandas-dev/pandas/issues/54466\n",
      "        \n",
      "  import pandas as pd\n"
     ]
    }
   ],
   "source": [
    "import numpy as np\n",
    "import torch\n",
    "import torch.nn as nn\n",
    "import pandas as pd\n",
    "from sklearn.preprocessing import StandardScaler\n",
    "from torch.utils.data import Dataset"
   ]
  },
  {
   "cell_type": "code",
   "execution_count": 2,
   "metadata": {},
   "outputs": [],
   "source": [
    "data = pd.read_csv('diabetes.csv')\n"
   ]
  },
  {
   "cell_type": "code",
   "execution_count": 3,
   "metadata": {},
   "outputs": [],
   "source": [
    "x = data.iloc[:,0:-1].values\n",
    "y_string= list(data.iloc[:,-1])"
   ]
  },
  {
   "cell_type": "code",
   "execution_count": 4,
   "metadata": {},
   "outputs": [
    {
     "name": "stdout",
     "output_type": "stream",
     "text": [
      "[[  6.  148.   72.   35.    0.   33.6  50. ]\n",
      " [  1.   85.   66.   29.    0.   26.6  31. ]\n",
      " [  8.  183.   64.    0.    0.   23.3  32. ]]\n",
      "['positive', 'negative', 'positive']\n"
     ]
    }
   ],
   "source": [
    "print(x[:3])\n",
    "print(y_string[:3])"
   ]
  },
  {
   "cell_type": "code",
   "execution_count": 5,
   "metadata": {},
   "outputs": [],
   "source": [
    "y_int = []\n",
    "for string in y_string:\n",
    "    if string == 'positive':\n",
    "        y_int.append(1)\n",
    "    else:\n",
    "        y_int.append(0)"
   ]
  },
  {
   "cell_type": "code",
   "execution_count": 6,
   "metadata": {},
   "outputs": [],
   "source": [
    "\n",
    "y = np.array(y_int, dtype = 'float64')"
   ]
  },
  {
   "cell_type": "code",
   "execution_count": 7,
   "metadata": {},
   "outputs": [],
   "source": [
    "# Feature Normalization\n",
    "sc = StandardScaler()\n",
    "x = sc.fit_transform(x)"
   ]
  },
  {
   "cell_type": "code",
   "execution_count": 8,
   "metadata": {},
   "outputs": [],
   "source": [
    "x = torch.tensor(x)\n",
    "y = torch.tensor(y).unsqueeze(1)"
   ]
  },
  {
   "cell_type": "code",
   "execution_count": 9,
   "metadata": {},
   "outputs": [
    {
     "name": "stdout",
     "output_type": "stream",
     "text": [
      "torch.Size([768, 7])\n",
      "torch.Size([768, 1])\n"
     ]
    }
   ],
   "source": [
    "print(x.shape)\n",
    "print(y.shape)"
   ]
  },
  {
   "cell_type": "code",
   "execution_count": 10,
   "metadata": {},
   "outputs": [],
   "source": [
    "class Dataset(Dataset):\n",
    "    def __init__(self,x,y):\n",
    "        self.x = x\n",
    "        self.y = y    \n",
    "    def __getitem__(self,index):   \n",
    "        return self.x[index], self.y[index]\n",
    "    def __len__(self):\n",
    "        return len(self.x)"
   ]
  },
  {
   "cell_type": "code",
   "execution_count": 11,
   "metadata": {},
   "outputs": [],
   "source": [
    "dataset = Dataset(x,y)"
   ]
  },
  {
   "cell_type": "code",
   "execution_count": 12,
   "metadata": {},
   "outputs": [
    {
     "data": {
      "text/plain": [
       "768"
      ]
     },
     "execution_count": 12,
     "metadata": {},
     "output_type": "execute_result"
    }
   ],
   "source": [
    "len(dataset)"
   ]
  },
  {
   "cell_type": "code",
   "execution_count": 13,
   "metadata": {},
   "outputs": [],
   "source": [
    "train_loader = torch.utils.data.DataLoader(dataset=dataset,\n",
    "                                           batch_size=32,\n",
    "                                           shuffle=True)"
   ]
  },
  {
   "cell_type": "code",
   "execution_count": 14,
   "metadata": {},
   "outputs": [
    {
     "name": "stdout",
     "output_type": "stream",
     "text": [
      "There is 24 batches in the dataset\n",
      "For one iteration (batch), there is:\n",
      "Data:    torch.Size([32, 7])\n",
      "Labels:  torch.Size([32, 1])\n"
     ]
    }
   ],
   "source": [
    "print(\"There is {} batches in the dataset\".format(len(train_loader)))\n",
    "for (x,y) in train_loader:\n",
    "    print(\"For one iteration (batch), there is:\")\n",
    "    print(\"Data:    {}\".format(x.shape))\n",
    "    print(\"Labels:  {}\".format(y.shape))\n",
    "    break"
   ]
  },
  {
   "cell_type": "code",
   "execution_count": 15,
   "metadata": {},
   "outputs": [],
   "source": [
    "class Model(nn.Module):\n",
    "    def __init__(self, input_features,output_features):\n",
    "        super(Model, self).__init__()\n",
    "        self.fc1 = nn.Linear(input_features, 5)\n",
    "        self.fc2 = nn.Linear(5, 4)\n",
    "        self.fc3 = nn.Linear(4, 3)\n",
    "        self.fc4 = nn.Linear(3, output_features)\n",
    "        self.sigmoid = nn.Sigmoid()\n",
    "        self.tanh = nn.Tanh()\n",
    "\n",
    "    def forward(self, x):\n",
    "        out = self.fc1(x)\n",
    "        out = self.tanh(out)\n",
    "        out = self.fc2(out)\n",
    "        out = self.tanh(out)\n",
    "        out = self.fc3(out)\n",
    "        out = self.tanh(out)\n",
    "        out = self.fc4(out)\n",
    "        out = self.sigmoid(out)\n",
    "        return out"
   ]
  },
  {
   "cell_type": "code",
   "execution_count": 16,
   "metadata": {},
   "outputs": [
    {
     "name": "stderr",
     "output_type": "stream",
     "text": [
      "c:\\Users\\Dharaneesh.V\\AppData\\Local\\Programs\\Python\\Python310\\lib\\site-packages\\torch\\nn\\_reduction.py:42: UserWarning: size_average and reduce args will be deprecated, please use reduction='mean' instead.\n",
      "  warnings.warn(warning.format(ret))\n"
     ]
    }
   ],
   "source": [
    "net = Model(7,1)\n",
    "criterion = torch.nn.BCELoss(size_average=True)   \n",
    "optimizer = torch.optim.SGD(net.parameters(), lr=0.1, momentum=0.9)"
   ]
  },
  {
   "cell_type": "code",
   "execution_count": 17,
   "metadata": {},
   "outputs": [
    {
     "name": "stdout",
     "output_type": "stream",
     "text": [
      "Epoch 1/225, Loss: 0.532, Accuracy: 0.750\n",
      "Epoch 2/225, Loss: 0.486, Accuracy: 0.812\n",
      "Epoch 3/225, Loss: 0.498, Accuracy: 0.719\n",
      "Epoch 4/225, Loss: 0.429, Accuracy: 0.844\n",
      "Epoch 5/225, Loss: 0.511, Accuracy: 0.719\n",
      "Epoch 6/225, Loss: 0.581, Accuracy: 0.719\n",
      "Epoch 7/225, Loss: 0.567, Accuracy: 0.719\n",
      "Epoch 8/225, Loss: 0.491, Accuracy: 0.688\n",
      "Epoch 9/225, Loss: 0.486, Accuracy: 0.812\n",
      "Epoch 10/225, Loss: 0.518, Accuracy: 0.781\n",
      "Epoch 11/225, Loss: 0.449, Accuracy: 0.875\n",
      "Epoch 12/225, Loss: 0.491, Accuracy: 0.812\n",
      "Epoch 13/225, Loss: 0.454, Accuracy: 0.750\n",
      "Epoch 14/225, Loss: 0.454, Accuracy: 0.781\n",
      "Epoch 15/225, Loss: 0.366, Accuracy: 0.812\n",
      "Epoch 16/225, Loss: 0.357, Accuracy: 0.875\n",
      "Epoch 17/225, Loss: 0.551, Accuracy: 0.688\n",
      "Epoch 18/225, Loss: 0.504, Accuracy: 0.688\n",
      "Epoch 19/225, Loss: 0.498, Accuracy: 0.719\n",
      "Epoch 20/225, Loss: 0.381, Accuracy: 0.812\n",
      "Epoch 21/225, Loss: 0.396, Accuracy: 0.781\n",
      "Epoch 22/225, Loss: 0.481, Accuracy: 0.781\n",
      "Epoch 23/225, Loss: 0.272, Accuracy: 0.906\n",
      "Epoch 24/225, Loss: 0.373, Accuracy: 0.750\n",
      "Epoch 25/225, Loss: 0.417, Accuracy: 0.812\n",
      "Epoch 26/225, Loss: 0.428, Accuracy: 0.781\n",
      "Epoch 27/225, Loss: 0.426, Accuracy: 0.750\n",
      "Epoch 28/225, Loss: 0.598, Accuracy: 0.625\n",
      "Epoch 29/225, Loss: 0.478, Accuracy: 0.688\n",
      "Epoch 30/225, Loss: 0.467, Accuracy: 0.719\n",
      "Epoch 31/225, Loss: 0.394, Accuracy: 0.781\n",
      "Epoch 32/225, Loss: 0.374, Accuracy: 0.781\n",
      "Epoch 33/225, Loss: 0.598, Accuracy: 0.688\n",
      "Epoch 34/225, Loss: 0.425, Accuracy: 0.688\n",
      "Epoch 35/225, Loss: 0.368, Accuracy: 0.906\n",
      "Epoch 36/225, Loss: 0.465, Accuracy: 0.812\n",
      "Epoch 37/225, Loss: 0.415, Accuracy: 0.781\n",
      "Epoch 38/225, Loss: 0.374, Accuracy: 0.844\n",
      "Epoch 39/225, Loss: 0.522, Accuracy: 0.719\n",
      "Epoch 40/225, Loss: 0.541, Accuracy: 0.625\n",
      "Epoch 41/225, Loss: 0.452, Accuracy: 0.688\n",
      "Epoch 42/225, Loss: 0.528, Accuracy: 0.750\n",
      "Epoch 43/225, Loss: 0.526, Accuracy: 0.656\n",
      "Epoch 44/225, Loss: 0.439, Accuracy: 0.750\n",
      "Epoch 45/225, Loss: 0.395, Accuracy: 0.906\n",
      "Epoch 46/225, Loss: 0.580, Accuracy: 0.781\n",
      "Epoch 47/225, Loss: 0.445, Accuracy: 0.750\n",
      "Epoch 48/225, Loss: 0.315, Accuracy: 0.812\n",
      "Epoch 49/225, Loss: 0.316, Accuracy: 0.875\n",
      "Epoch 50/225, Loss: 0.310, Accuracy: 0.844\n",
      "Epoch 51/225, Loss: 0.479, Accuracy: 0.688\n",
      "Epoch 52/225, Loss: 0.296, Accuracy: 0.875\n",
      "Epoch 53/225, Loss: 0.419, Accuracy: 0.812\n",
      "Epoch 54/225, Loss: 0.344, Accuracy: 0.875\n",
      "Epoch 55/225, Loss: 0.359, Accuracy: 0.719\n",
      "Epoch 56/225, Loss: 0.437, Accuracy: 0.719\n",
      "Epoch 57/225, Loss: 0.310, Accuracy: 0.875\n",
      "Epoch 58/225, Loss: 0.415, Accuracy: 0.719\n",
      "Epoch 59/225, Loss: 0.237, Accuracy: 0.938\n",
      "Epoch 60/225, Loss: 0.470, Accuracy: 0.812\n",
      "Epoch 61/225, Loss: 0.321, Accuracy: 0.844\n",
      "Epoch 62/225, Loss: 0.447, Accuracy: 0.781\n",
      "Epoch 63/225, Loss: 0.523, Accuracy: 0.812\n",
      "Epoch 64/225, Loss: 0.547, Accuracy: 0.719\n",
      "Epoch 65/225, Loss: 0.379, Accuracy: 0.750\n",
      "Epoch 66/225, Loss: 0.796, Accuracy: 0.594\n",
      "Epoch 67/225, Loss: 0.533, Accuracy: 0.531\n",
      "Epoch 68/225, Loss: 0.620, Accuracy: 0.594\n",
      "Epoch 69/225, Loss: 0.355, Accuracy: 0.875\n",
      "Epoch 70/225, Loss: 0.342, Accuracy: 0.812\n",
      "Epoch 71/225, Loss: 0.507, Accuracy: 0.656\n",
      "Epoch 72/225, Loss: 0.447, Accuracy: 0.750\n",
      "Epoch 73/225, Loss: 0.472, Accuracy: 0.750\n",
      "Epoch 74/225, Loss: 0.294, Accuracy: 0.875\n",
      "Epoch 75/225, Loss: 0.314, Accuracy: 0.844\n",
      "Epoch 76/225, Loss: 0.487, Accuracy: 0.750\n",
      "Epoch 77/225, Loss: 0.442, Accuracy: 0.812\n",
      "Epoch 78/225, Loss: 0.456, Accuracy: 0.750\n",
      "Epoch 79/225, Loss: 0.406, Accuracy: 0.781\n",
      "Epoch 80/225, Loss: 0.364, Accuracy: 0.781\n",
      "Epoch 81/225, Loss: 0.288, Accuracy: 0.875\n",
      "Epoch 82/225, Loss: 0.450, Accuracy: 0.750\n",
      "Epoch 83/225, Loss: 0.352, Accuracy: 0.844\n",
      "Epoch 84/225, Loss: 0.582, Accuracy: 0.688\n",
      "Epoch 85/225, Loss: 0.376, Accuracy: 0.719\n",
      "Epoch 86/225, Loss: 0.292, Accuracy: 0.875\n",
      "Epoch 87/225, Loss: 0.426, Accuracy: 0.750\n",
      "Epoch 88/225, Loss: 0.364, Accuracy: 0.875\n",
      "Epoch 89/225, Loss: 0.470, Accuracy: 0.750\n",
      "Epoch 90/225, Loss: 0.436, Accuracy: 0.719\n",
      "Epoch 91/225, Loss: 0.364, Accuracy: 0.781\n",
      "Epoch 92/225, Loss: 0.348, Accuracy: 0.750\n",
      "Epoch 93/225, Loss: 0.471, Accuracy: 0.781\n",
      "Epoch 94/225, Loss: 0.312, Accuracy: 0.906\n",
      "Epoch 95/225, Loss: 0.418, Accuracy: 0.750\n",
      "Epoch 96/225, Loss: 0.339, Accuracy: 0.812\n",
      "Epoch 97/225, Loss: 0.334, Accuracy: 0.844\n",
      "Epoch 98/225, Loss: 0.335, Accuracy: 0.812\n",
      "Epoch 99/225, Loss: 0.313, Accuracy: 0.875\n",
      "Epoch 100/225, Loss: 0.281, Accuracy: 0.906\n",
      "Epoch 101/225, Loss: 0.427, Accuracy: 0.812\n",
      "Epoch 102/225, Loss: 0.357, Accuracy: 0.875\n",
      "Epoch 103/225, Loss: 0.486, Accuracy: 0.781\n",
      "Epoch 104/225, Loss: 0.397, Accuracy: 0.781\n",
      "Epoch 105/225, Loss: 0.261, Accuracy: 0.812\n",
      "Epoch 106/225, Loss: 0.434, Accuracy: 0.750\n",
      "Epoch 107/225, Loss: 0.407, Accuracy: 0.844\n",
      "Epoch 108/225, Loss: 0.334, Accuracy: 0.781\n",
      "Epoch 109/225, Loss: 0.402, Accuracy: 0.719\n",
      "Epoch 110/225, Loss: 0.460, Accuracy: 0.781\n",
      "Epoch 111/225, Loss: 0.536, Accuracy: 0.656\n",
      "Epoch 112/225, Loss: 0.423, Accuracy: 0.750\n",
      "Epoch 113/225, Loss: 0.246, Accuracy: 0.875\n",
      "Epoch 114/225, Loss: 0.523, Accuracy: 0.688\n",
      "Epoch 115/225, Loss: 0.349, Accuracy: 0.906\n",
      "Epoch 116/225, Loss: 0.252, Accuracy: 0.875\n",
      "Epoch 117/225, Loss: 0.467, Accuracy: 0.781\n",
      "Epoch 118/225, Loss: 0.389, Accuracy: 0.781\n",
      "Epoch 119/225, Loss: 0.331, Accuracy: 0.781\n",
      "Epoch 120/225, Loss: 0.316, Accuracy: 0.812\n",
      "Epoch 121/225, Loss: 0.297, Accuracy: 0.906\n",
      "Epoch 122/225, Loss: 0.367, Accuracy: 0.812\n",
      "Epoch 123/225, Loss: 0.454, Accuracy: 0.688\n",
      "Epoch 124/225, Loss: 0.519, Accuracy: 0.719\n",
      "Epoch 125/225, Loss: 0.272, Accuracy: 0.875\n",
      "Epoch 126/225, Loss: 0.394, Accuracy: 0.812\n",
      "Epoch 127/225, Loss: 0.271, Accuracy: 1.000\n",
      "Epoch 128/225, Loss: 0.456, Accuracy: 0.781\n",
      "Epoch 129/225, Loss: 0.617, Accuracy: 0.594\n",
      "Epoch 130/225, Loss: 0.325, Accuracy: 0.844\n",
      "Epoch 131/225, Loss: 0.439, Accuracy: 0.750\n",
      "Epoch 132/225, Loss: 0.333, Accuracy: 0.750\n",
      "Epoch 133/225, Loss: 0.485, Accuracy: 0.781\n",
      "Epoch 134/225, Loss: 0.373, Accuracy: 0.781\n",
      "Epoch 135/225, Loss: 0.295, Accuracy: 0.844\n",
      "Epoch 136/225, Loss: 0.363, Accuracy: 0.812\n",
      "Epoch 137/225, Loss: 0.377, Accuracy: 0.750\n",
      "Epoch 138/225, Loss: 0.484, Accuracy: 0.750\n",
      "Epoch 139/225, Loss: 0.601, Accuracy: 0.562\n",
      "Epoch 140/225, Loss: 0.362, Accuracy: 0.844\n",
      "Epoch 141/225, Loss: 0.542, Accuracy: 0.781\n",
      "Epoch 142/225, Loss: 0.357, Accuracy: 0.812\n",
      "Epoch 143/225, Loss: 0.552, Accuracy: 0.812\n",
      "Epoch 144/225, Loss: 0.215, Accuracy: 0.938\n",
      "Epoch 145/225, Loss: 0.220, Accuracy: 0.906\n",
      "Epoch 146/225, Loss: 0.292, Accuracy: 0.844\n",
      "Epoch 147/225, Loss: 0.489, Accuracy: 0.750\n",
      "Epoch 148/225, Loss: 0.429, Accuracy: 0.812\n",
      "Epoch 149/225, Loss: 0.424, Accuracy: 0.750\n",
      "Epoch 150/225, Loss: 0.316, Accuracy: 0.844\n",
      "Epoch 151/225, Loss: 0.458, Accuracy: 0.688\n",
      "Epoch 152/225, Loss: 0.435, Accuracy: 0.781\n",
      "Epoch 153/225, Loss: 0.345, Accuracy: 0.844\n",
      "Epoch 154/225, Loss: 0.313, Accuracy: 0.781\n",
      "Epoch 155/225, Loss: 0.362, Accuracy: 0.781\n",
      "Epoch 156/225, Loss: 0.361, Accuracy: 0.844\n",
      "Epoch 157/225, Loss: 0.321, Accuracy: 0.719\n",
      "Epoch 158/225, Loss: 0.656, Accuracy: 0.656\n",
      "Epoch 159/225, Loss: 0.322, Accuracy: 0.844\n",
      "Epoch 160/225, Loss: 0.211, Accuracy: 0.875\n",
      "Epoch 161/225, Loss: 0.388, Accuracy: 0.781\n",
      "Epoch 162/225, Loss: 0.425, Accuracy: 0.812\n",
      "Epoch 163/225, Loss: 0.527, Accuracy: 0.688\n",
      "Epoch 164/225, Loss: 0.288, Accuracy: 0.906\n",
      "Epoch 165/225, Loss: 0.447, Accuracy: 0.688\n",
      "Epoch 166/225, Loss: 0.628, Accuracy: 0.719\n",
      "Epoch 167/225, Loss: 0.368, Accuracy: 0.812\n",
      "Epoch 168/225, Loss: 0.561, Accuracy: 0.688\n",
      "Epoch 169/225, Loss: 0.257, Accuracy: 0.844\n",
      "Epoch 170/225, Loss: 0.402, Accuracy: 0.750\n",
      "Epoch 171/225, Loss: 0.282, Accuracy: 0.812\n",
      "Epoch 172/225, Loss: 0.257, Accuracy: 0.875\n",
      "Epoch 173/225, Loss: 0.371, Accuracy: 0.812\n",
      "Epoch 174/225, Loss: 0.309, Accuracy: 0.844\n",
      "Epoch 175/225, Loss: 0.366, Accuracy: 0.781\n",
      "Epoch 176/225, Loss: 0.389, Accuracy: 0.688\n",
      "Epoch 177/225, Loss: 0.527, Accuracy: 0.688\n",
      "Epoch 178/225, Loss: 0.376, Accuracy: 0.844\n",
      "Epoch 179/225, Loss: 0.347, Accuracy: 0.812\n",
      "Epoch 180/225, Loss: 0.327, Accuracy: 0.844\n",
      "Epoch 181/225, Loss: 0.430, Accuracy: 0.750\n",
      "Epoch 182/225, Loss: 0.461, Accuracy: 0.781\n",
      "Epoch 183/225, Loss: 0.695, Accuracy: 0.594\n",
      "Epoch 184/225, Loss: 0.439, Accuracy: 0.688\n",
      "Epoch 185/225, Loss: 0.383, Accuracy: 0.750\n",
      "Epoch 186/225, Loss: 0.398, Accuracy: 0.750\n",
      "Epoch 187/225, Loss: 0.361, Accuracy: 0.750\n",
      "Epoch 188/225, Loss: 0.284, Accuracy: 0.812\n",
      "Epoch 189/225, Loss: 0.324, Accuracy: 0.812\n",
      "Epoch 190/225, Loss: 0.491, Accuracy: 0.719\n",
      "Epoch 191/225, Loss: 0.478, Accuracy: 0.719\n",
      "Epoch 192/225, Loss: 0.369, Accuracy: 0.875\n",
      "Epoch 193/225, Loss: 0.501, Accuracy: 0.750\n",
      "Epoch 194/225, Loss: 0.250, Accuracy: 0.875\n",
      "Epoch 195/225, Loss: 0.403, Accuracy: 0.844\n",
      "Epoch 196/225, Loss: 0.442, Accuracy: 0.750\n",
      "Epoch 197/225, Loss: 0.301, Accuracy: 0.781\n",
      "Epoch 198/225, Loss: 0.640, Accuracy: 0.625\n",
      "Epoch 199/225, Loss: 0.351, Accuracy: 0.812\n",
      "Epoch 200/225, Loss: 0.310, Accuracy: 0.844\n",
      "Epoch 201/225, Loss: 0.257, Accuracy: 0.906\n",
      "Epoch 202/225, Loss: 0.427, Accuracy: 0.781\n",
      "Epoch 203/225, Loss: 0.386, Accuracy: 0.719\n",
      "Epoch 204/225, Loss: 0.483, Accuracy: 0.812\n",
      "Epoch 205/225, Loss: 0.431, Accuracy: 0.625\n",
      "Epoch 206/225, Loss: 0.329, Accuracy: 0.812\n",
      "Epoch 207/225, Loss: 0.467, Accuracy: 0.719\n",
      "Epoch 208/225, Loss: 0.641, Accuracy: 0.688\n",
      "Epoch 209/225, Loss: 0.273, Accuracy: 0.844\n",
      "Epoch 210/225, Loss: 0.306, Accuracy: 0.812\n",
      "Epoch 211/225, Loss: 0.414, Accuracy: 0.812\n",
      "Epoch 212/225, Loss: 0.352, Accuracy: 0.875\n",
      "Epoch 213/225, Loss: 0.311, Accuracy: 0.844\n",
      "Epoch 214/225, Loss: 0.441, Accuracy: 0.812\n",
      "Epoch 215/225, Loss: 0.423, Accuracy: 0.844\n",
      "Epoch 216/225, Loss: 0.296, Accuracy: 0.875\n",
      "Epoch 217/225, Loss: 0.211, Accuracy: 0.938\n",
      "Epoch 218/225, Loss: 0.323, Accuracy: 0.812\n",
      "Epoch 219/225, Loss: 0.503, Accuracy: 0.656\n",
      "Epoch 220/225, Loss: 0.399, Accuracy: 0.719\n",
      "Epoch 221/225, Loss: 0.459, Accuracy: 0.719\n",
      "Epoch 222/225, Loss: 0.244, Accuracy: 0.812\n",
      "Epoch 223/225, Loss: 0.552, Accuracy: 0.719\n",
      "Epoch 224/225, Loss: 0.416, Accuracy: 0.812\n",
      "Epoch 225/225, Loss: 0.297, Accuracy: 0.781\n"
     ]
    }
   ],
   "source": [
    "num_epochs = 225\n",
    "for epoch in range(num_epochs):\n",
    "    for inputs,labels in train_loader:\n",
    "        inputs = inputs.float()\n",
    "        labels = labels.float()\n",
    "       \n",
    "        output = net(inputs)\n",
    "      \n",
    "        loss = criterion(output, labels)    \n",
    "        optimizer.zero_grad()\n",
    "       \n",
    "        loss.backward()\n",
    "        optimizer.step()\n",
    "    output = (output>0.5).float()\n",
    "    accuracy = (output == labels).float().mean() \n",
    "    print(\"Epoch {}/{}, Loss: {:.3f}, Accuracy: {:.3f}\".format(epoch+1,num_epochs, loss, accuracy))"
   ]
  },
  {
   "cell_type": "code",
   "execution_count": null,
   "metadata": {},
   "outputs": [],
   "source": []
  },
  {
   "cell_type": "code",
   "execution_count": null,
   "metadata": {},
   "outputs": [],
   "source": []
  },
  {
   "cell_type": "code",
   "execution_count": null,
   "metadata": {},
   "outputs": [],
   "source": []
  }
 ],
 "metadata": {
  "kernelspec": {
   "display_name": "Python 3",
   "language": "python",
   "name": "python3"
  },
  "language_info": {
   "codemirror_mode": {
    "name": "ipython",
    "version": 3
   },
   "file_extension": ".py",
   "mimetype": "text/x-python",
   "name": "python",
   "nbconvert_exporter": "python",
   "pygments_lexer": "ipython3",
   "version": "3.10.0"
  }
 },
 "nbformat": 4,
 "nbformat_minor": 2
}
